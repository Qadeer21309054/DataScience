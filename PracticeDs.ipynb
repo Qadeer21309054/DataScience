{
 "cells": [
  {
   "cell_type": "markdown",
   "id": "0",
   "metadata": {},
   "source": [
    "# Data Analysis of Crime Data of US"
   ]
  },
  {
   "cell_type": "markdown",
   "id": "1",
   "metadata": {},
   "source": [
    "# Exercise 2.1: Data Cleaning and Transformation"
   ]
  },
  {
   "cell_type": "markdown",
   "id": "2",
   "metadata": {},
   "source": [
    "# Importing Necessary Liberaries"
   ]
  },
  {
   "cell_type": "code",
   "execution_count": null,
   "id": "3",
   "metadata": {},
   "outputs": [],
   "source": [
    "import pandas as pd "
   ]
  },
  {
   "cell_type": "markdown",
   "id": "4",
   "metadata": {},
   "source": [
    "# Importing Dataset"
   ]
  },
  {
   "cell_type": "code",
   "execution_count": null,
   "id": "5",
   "metadata": {},
   "outputs": [],
   "source": [
    "df = pd.read_csv('/home/lazzh/Downloads/data2.csv', low_memory=False)"
   ]
  },
  {
   "cell_type": "code",
   "execution_count": null,
   "id": "6",
   "metadata": {},
   "outputs": [],
   "source": [
    "df"
   ]
  },
  {
   "cell_type": "markdown",
   "id": "7",
   "metadata": {},
   "source": [
    "# Check Total Rows and Columns in dataset"
   ]
  },
  {
   "cell_type": "code",
   "execution_count": null,
   "id": "8",
   "metadata": {},
   "outputs": [],
   "source": [
    "df.shape"
   ]
  },
  {
   "cell_type": "markdown",
   "id": "9",
   "metadata": {},
   "source": [
    "# Checking total missing values for every Column "
   ]
  },
  {
   "cell_type": "code",
   "execution_count": null,
   "id": "10",
   "metadata": {},
   "outputs": [],
   "source": [
    "has_missingValues = df.isnull().values.any()\n",
    "print(has_missingValues)"
   ]
  },
  {
   "cell_type": "markdown",
   "id": "11",
   "metadata": {},
   "source": [
    "# Count Missing Values Per Column"
   ]
  },
  {
   "cell_type": "code",
   "execution_count": null,
   "id": "12",
   "metadata": {},
   "outputs": [],
   "source": [
    "df.isnull().sum()"
   ]
  },
  {
   "cell_type": "markdown",
   "id": "13",
   "metadata": {},
   "source": [
    "# Performing Imputation/Filling Missing Data"
   ]
  },
  {
   "cell_type": "markdown",
   "id": "14",
   "metadata": {},
   "source": [
    "# Drop Rows/Columns:\n",
    "\n",
    "When to use: If the proportion of missing values is very high, or if the specific rows/columns are not critical to the analysis.\n",
    "Example: For columns like Crm Cd 2, Crm Cd 3, and Crm Cd 4 with very high missing values, it might be better to drop them"
   ]
  },
  {
   "cell_type": "code",
   "execution_count": null,
   "id": "15",
   "metadata": {},
   "outputs": [],
   "source": [
    "df.drop(columns=['Crm Cd 2', 'Crm Cd 3', 'Crm Cd 4'], inplace=True)"
   ]
  },
  {
   "cell_type": "markdown",
   "id": "16",
   "metadata": {},
   "source": [
    "# Fill with a Specific Value:\n",
    "\n",
    "When to use: For categorical columns where a missing value might be meaningfully replaced by a placeholder or mode.\n",
    "Example: Filling Vict Sex with \"Unknown\" if missing values are present.\n"
   ]
  },
  {
   "cell_type": "code",
   "execution_count": null,
   "id": "17",
   "metadata": {},
   "outputs": [],
   "source": [
    "df['Vict Sex'].fillna('Unknown', inplace=True)"
   ]
  },
  {
   "cell_type": "markdown",
   "id": "18",
   "metadata": {},
   "source": [
    "# Fill with Mean/Median/Mode:\n",
    "\n",
    "When to use: For numerical columns where the mean or median is representative of the data distribution. Mode can be used for categorical data.\n",
    "Example: Filling Vict Age with the median age."
   ]
  },
  {
   "cell_type": "code",
   "execution_count": null,
   "id": "19",
   "metadata": {},
   "outputs": [],
   "source": [
    "df['Vict Age'].fillna(df['Vict Age'].median(), inplace=True)\n",
    "df['Vict Descent'].fillna(df['Vict Descent'].mode()[0], inplace=True)"
   ]
  },
  {
   "cell_type": "markdown",
   "id": "20",
   "metadata": {},
   "source": [
    "# Forward Fill / Backward Fill:\n",
    "\n",
    "When to use: For time series data where you might want to propagate the previous or next value to fill in missing values.\n",
    "Example: Forward fill for Date Rptd.\n"
   ]
  },
  {
   "cell_type": "code",
   "execution_count": null,
   "id": "21",
   "metadata": {},
   "outputs": [],
   "source": [
    "df['Date Rptd'].fillna(method='ffill', inplace=True)"
   ]
  },
  {
   "cell_type": "markdown",
   "id": "22",
   "metadata": {},
   "source": [
    "# Interpolation:\n",
    "\n",
    "When to use: For numerical time series data where you want to estimate the missing values based on surrounding data points.\n",
    "Example: Interpolating TIME OCC.\n"
   ]
  },
  {
   "cell_type": "code",
   "execution_count": null,
   "id": "23",
   "metadata": {},
   "outputs": [],
   "source": [
    "df['TIME OCC'] = df['TIME OCC'].interpolate()"
   ]
  },
  {
   "cell_type": "markdown",
   "id": "24",
   "metadata": {},
   "source": [
    "# Imputation Using Algorithms:\n",
    "\n",
    "When to use: For more sophisticated imputation, you can use machine learning algorithms to predict the missing values based on other features.\n",
    "Example: Using K-Nearest Neighbors (KNN) for Premis Desc.\n"
   ]
  },
  {
   "cell_type": "code",
   "execution_count": null,
   "id": "25",
   "metadata": {},
   "outputs": [],
   "source": [
    "from sklearn.impute import KNNImputer\n",
    "from sklearn.preprocessing import LabelEncoder\n",
    "\n",
    "numerical_cols = ['Premis Cd']\n",
    "categorical_cols = ['Premis Desc']\n",
    "\n",
    "\n",
    "imputer = KNNImputer(n_neighbors=5)\n",
    "df[numerical_cols] = imputer.fit_transform(df[numerical_cols])\n",
    "\n",
    "for col in categorical_cols:\n",
    "    df[col].fillna(df[col].mode()[0], inplace=True)"
   ]
  },
  {
   "cell_type": "markdown",
   "id": "26",
   "metadata": {},
   "source": [
    "# Domain-Specific Strategies:\n",
    "\n",
    "When to use: Apply domain knowledge to impute missing values appropriately.\n",
    "Example: Filling Status and Status Desc based on the most frequent combination found in the dataset."
   ]
  },
  {
   "cell_type": "code",
   "execution_count": null,
   "id": "27",
   "metadata": {},
   "outputs": [],
   "source": [
    "df['Status'].fillna(df['Status'].mode()[0], inplace=True)\n",
    "df['Status Desc'].fillna(df['Status Desc'].mode()[0], inplace=True)"
   ]
  },
  {
   "cell_type": "code",
   "execution_count": null,
   "id": "28",
   "metadata": {},
   "outputs": [],
   "source": [
    "df['LAT'].fillna(method='ffill', inplace=True)\n",
    "df['LON'].fillna(method='ffill', inplace=True)"
   ]
  },
  {
   "cell_type": "code",
   "execution_count": null,
   "id": "29",
   "metadata": {},
   "outputs": [],
   "source": [
    "df['Crm Cd 1'].fillna(df['Crm Cd 1'].mode()[0], inplace=True)"
   ]
  },
  {
   "cell_type": "code",
   "execution_count": null,
   "id": "30",
   "metadata": {},
   "outputs": [],
   "source": [
    "location_column = ['LOCATION']\n",
    "for col in location_column:\n",
    "    df[col].fillna(df[col].mode()[0], inplace=True)"
   ]
  },
  {
   "cell_type": "code",
   "execution_count": null,
   "id": "31",
   "metadata": {},
   "outputs": [],
   "source": [
    "df.drop(columns=['Cross Street'], inplace=True)"
   ]
  },
  {
   "cell_type": "code",
   "execution_count": null,
   "id": "32",
   "metadata": {},
   "outputs": [],
   "source": [
    "df['DATE OCC'].fillna(method='ffill', inplace=True)"
   ]
  },
  {
   "cell_type": "code",
   "execution_count": null,
   "id": "33",
   "metadata": {},
   "outputs": [],
   "source": [
    "df['AREA'].fillna(df['AREA'].mode()[0], inplace=True)"
   ]
  },
  {
   "cell_type": "code",
   "execution_count": null,
   "id": "34",
   "metadata": {},
   "outputs": [],
   "source": [
    "df['AREA NAME'].fillna(df['AREA NAME'].mode()[0], inplace=True)"
   ]
  },
  {
   "cell_type": "code",
   "execution_count": null,
   "id": "35",
   "metadata": {},
   "outputs": [],
   "source": [
    "df['Rpt Dist No'].fillna(df['Rpt Dist No'].mode()[0], inplace=True)"
   ]
  },
  {
   "cell_type": "code",
   "execution_count": null,
   "id": "36",
   "metadata": {},
   "outputs": [],
   "source": [
    "df['Part 1-2'].fillna(df['Part 1-2'].mode()[0], inplace=True)"
   ]
  },
  {
   "cell_type": "code",
   "execution_count": null,
   "id": "37",
   "metadata": {},
   "outputs": [],
   "source": [
    "df['Crm Cd'].fillna(df['Crm Cd'].mode()[0], inplace=True)"
   ]
  },
  {
   "cell_type": "code",
   "execution_count": null,
   "id": "38",
   "metadata": {},
   "outputs": [],
   "source": [
    "df['Crm Cd Desc'].fillna(df['Crm Cd Desc'].mode()[0], inplace=True)"
   ]
  },
  {
   "cell_type": "code",
   "execution_count": null,
   "id": "39",
   "metadata": {},
   "outputs": [],
   "source": [
    "Mocodes_column = ['Mocodes']\n",
    "for col in Mocodes_column:\n",
    "    df[col].fillna(df[col].mode()[0], inplace=True)"
   ]
  },
  {
   "cell_type": "code",
   "execution_count": null,
   "id": "40",
   "metadata": {},
   "outputs": [],
   "source": [
    "df['Weapon Used Cd'].fillna(df['Weapon Used Cd'].mode()[0], inplace=True)"
   ]
  },
  {
   "cell_type": "code",
   "execution_count": null,
   "id": "41",
   "metadata": {},
   "outputs": [],
   "source": [
    "df['Weapon Desc'].fillna(df['Weapon Desc'].mode()[0], inplace=True)"
   ]
  },
  {
   "cell_type": "code",
   "execution_count": null,
   "id": "42",
   "metadata": {},
   "outputs": [],
   "source": [
    "df.isnull().sum()"
   ]
  },
  {
   "cell_type": "markdown",
   "id": "43",
   "metadata": {},
   "source": [
    "# Alternate Code to perform all above"
   ]
  },
  {
   "cell_type": "code",
   "execution_count": null,
   "id": "44",
   "metadata": {},
   "outputs": [],
   "source": [
    "import pandas as pd\n",
    "from sklearn.impute import KNNImputer\n",
    "\n",
    "# Load your dataset\n",
    "df = pd.read_csv('/home/lazzh/Downloads/data2.csv', low_memory=False)\n",
    "\n",
    "# Dropping columns with extremely high missing values\n",
    "df.drop(columns=['Crm Cd 2', 'Crm Cd 3', 'Crm Cd 4', 'Weapon Used Cd', 'Weapon Desc', 'Cross Street'], inplace=True)\n",
    "\n",
    "# List of categorical columns\n",
    "categorical_cols = ['Vict Sex', 'Vict Descent', 'AREA NAME', 'Part 1-2', 'Crm Cd Desc', 'Status', 'Status Desc', 'Premis Desc', 'AREA', 'Crm Cd 1', 'Rpt Dist No','Crm Cd', 'Mocodes', 'LOCATION']\n",
    "\n",
    "# Fill missing values in categorical columns with the mode\n",
    "df[categorical_cols] = df[categorical_cols].apply(lambda col: col.fillna(col.mode()[0]))\n",
    "\n",
    "# Filling numerical columns with median\n",
    "df['Vict Age'].fillna(df['Vict Age'].median(), inplace=True)\n",
    "\n",
    "# Forward fill for date-related columns\n",
    "date_cols = ['Date Rptd', 'DATE OCC']\n",
    "for col in date_cols:\n",
    "    df[col].fillna(method='ffill', inplace=True)\n",
    "\n",
    "# Interpolating TIME OCC\n",
    "df['TIME OCC'] = df['TIME OCC'].interpolate()\n",
    "\n",
    "# KNN imputation for Premis Cd\n",
    "numerical_cols = ['Premis Cd']\n",
    "imputer = KNNImputer(n_neighbors=5)\n",
    "df[numerical_cols] = imputer.fit_transform(df[numerical_cols])\n",
    "\n",
    "# Forward fill for LAT and LON\n",
    "df['LAT'].fillna(method='ffill', inplace=True)\n",
    "df['LON'].fillna(method='ffill', inplace=True)\n",
    "\n",
    "print(df.isnull().sum())  # To verify no missing values are left\n"
   ]
  },
  {
   "cell_type": "code",
   "execution_count": null,
   "id": "45",
   "metadata": {},
   "outputs": [],
   "source": [
    "df['Premis Desc'] = df['Premis Desc'].apply(lambda x: ' '.join(x.split()[:2]))\n",
    "df['Premis Desc']"
   ]
  },
  {
   "cell_type": "code",
   "execution_count": null,
   "id": "46",
   "metadata": {},
   "outputs": [],
   "source": [
    "import pandas as pd\n",
    "import matplotlib.pyplot as plt\n",
    "import seaborn as sns\n",
    "\n",
    "# Filter Premis Desc counts greater than 5000\n",
    "premis_counts = df['Premis Desc'].value_counts()\n",
    "top_premis_counts = premis_counts[premis_counts > 5000]\n",
    "\n",
    "# Aggregate the remaining counts into 'Other'\n",
    "other_count = premis_counts[premis_counts <= 5000].sum()\n",
    "top_premis_counts['Other'] = other_count\n",
    "\n",
    "# Create subplots\n",
    "fig, axes = plt.subplots(2, 2, figsize=(15, 12))\n",
    "\n",
    "# 1. Crimes by Victim Sex\n",
    "sex_counts = df['Vict Sex'].value_counts()\n",
    "sex_labels = ['Male', 'Female', 'Prefer Not to Say']\n",
    "sns.barplot(x=sex_counts.index, y=sex_counts.values, ax=axes[0, 0], palette=\"viridis\")\n",
    "axes[0, 0].set_title('Number of Crimes by Victim Sex')\n",
    "axes[0, 0].set_xlabel('Victim Sex')\n",
    "axes[0, 0].set_ylabel('Number of Crimes')\n",
    "# Add labels for the bars for the legend\n",
    "for i, label in enumerate(sex_labels):\n",
    "    axes[0, 0].bar(sex_counts.index[i], sex_counts.values[i], label=label)\n",
    "axes[0, 0].legend(title='Victim Sex', loc='upper right')\n",
    "\n",
    "# 2. Crimes by Area\n",
    "area_counts = df['AREA NAME'].value_counts()\n",
    "sns.barplot(x=area_counts.index, y=area_counts.values, ax=axes[0, 1], palette=\"magma\")\n",
    "axes[0, 1].set_title('Number of Crimes by Area')\n",
    "axes[0, 1].set_xlabel('Area')\n",
    "axes[0, 1].set_ylabel('Number of Crimes')\n",
    "axes[0, 1].tick_params(axis='x', rotation=90)\n",
    "\n",
    "# 3. Crimes by Premises Description\n",
    "sns.barplot(x=top_premis_counts.values, y=top_premis_counts.index, ax=axes[1, 0], palette=\"coolwarm\", orient='h')\n",
    "axes[1, 0].set_title('Number of Crimes by Premises Description')\n",
    "axes[1, 0].set_xlabel('Number of Crimes')\n",
    "axes[1, 0].set_ylabel('Premises Description')\n",
    "\n",
    "# 4. Crimes by Time of Occurrence\n",
    "time_occ_counts = df['TIME OCC'].value_counts().sort_index()\n",
    "sns.lineplot(x=time_occ_counts.index, y=time_occ_counts.values, ax=axes[1, 1])\n",
    "axes[1, 1].set_title('Number of Crimes by Time of Occurrence')\n",
    "axes[1, 1].set_xlabel('Time of Occurrence')\n",
    "axes[1, 1].set_ylabel('Number of Crimes')\n",
    "\n",
    "# Adjust layout\n",
    "plt.tight_layout()\n",
    "plt.show()\n"
   ]
  },
  {
   "cell_type": "code",
   "execution_count": null,
   "id": "47",
   "metadata": {},
   "outputs": [],
   "source": [
    "premis_counts = df['Premis Desc'].value_counts()\n",
    "pd.set_option('display.max_rows', None)\n",
    "print(premis_counts)\n",
    "\n",
    "# Reset display options to default\n",
    "pd.reset_option('display.max_rows')\n"
   ]
  },
  {
   "cell_type": "code",
   "execution_count": null,
   "id": "48",
   "metadata": {},
   "outputs": [],
   "source": []
  }
 ],
 "metadata": {
  "kernelspec": {
   "display_name": "Python 3 (ipykernel)",
   "language": "python",
   "name": "python3"
  },
  "language_info": {
   "codemirror_mode": {
    "name": "ipython",
    "version": 3
   },
   "file_extension": ".py",
   "mimetype": "text/x-python",
   "name": "python",
   "nbconvert_exporter": "python",
   "pygments_lexer": "ipython3",
   "version": "3.11.5"
  }
 },
 "nbformat": 4,
 "nbformat_minor": 5
}
